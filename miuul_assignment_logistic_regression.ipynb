{
  "nbformat": 4,
  "nbformat_minor": 0,
  "metadata": {
    "colab": {
      "provenance": [],
      "include_colab_link": true
    },
    "kernelspec": {
      "name": "python3",
      "display_name": "Python 3"
    },
    "language_info": {
      "name": "python"
    }
  },
  "cells": [
    {
      "cell_type": "markdown",
      "metadata": {
        "id": "view-in-github",
        "colab_type": "text"
      },
      "source": [
        "<a href=\"https://colab.research.google.com/github/berilcankutlu/deep_learning_miuul/blob/main/miuul_assignment_logistic_regression.ipynb\" target=\"_parent\"><img src=\"https://colab.research.google.com/assets/colab-badge.svg\" alt=\"Open In Colab\"/></a>"
      ]
    },
    {
      "cell_type": "markdown",
      "source": [
        "# Understanding Gradients"
      ],
      "metadata": {
        "id": "CN56aQnRsBaA"
      }
    },
    {
      "cell_type": "markdown",
      "source": [
        "# Task 1: Veri Setindeki İlk Ağırlık İçin İterasyon, Gradyan ve Loss Değişimlerini Gözlemlemek İstiyoruz.\n",
        "\n",
        "Aşağıdaki çıktıdaki sonuçları almak için uygun kodları yazmanız beklenmektedir.\n",
        "\n",
        "## Beklenen çıktı:\n",
        "\n",
        "```\n",
        "    Iteration  Feature 1 Gradient      Loss\n",
        "0           1            0.346963  0.693127\n",
        "1           2            0.250376  0.527516\n",
        "2           3            0.196769  0.441138\n",
        "3           4            0.163503  0.387700\n",
        "4           5            0.140597  0.350752\n",
        "..        ...                 ...       ...\n",
        "95         96            0.010033  0.108377\n",
        "96         97            0.009923  0.108025\n",
        "97         98            0.009816  0.107678\n",
        "98         99            0.009711  0.107337\n",
        "99        100            0.009608  0.107001\n",
        "\n",
        "[100 rows x 3 columns]\n",
        "```\n",
        "\n",
        "## İpuçları:\n",
        "\n",
        "\n",
        "- Modelleme işlemi ve diğer tüm işlemler içeriklerde olduğu gibi tüm değişkenler üzerinden yapılır.\n",
        "\n",
        "- Tek bir değişken için gradyan istediğimiz için sadece gradyan hesabının yapıldığı dw içerisinden şu şekilde bir seçim yapılması yeterli dw[0] böylece ilk değişkenin gradyan bilgisini tutmuş olacağız.\n",
        "\n",
        "- gradient_descent fonksiyonunun içinde döngü başlamadan önce aşağıdaki gibi bir sözlük tanımlamak işinize yarayabilir:\n",
        "\n",
        "- grad_tracking = {'Iteration': [], 'Feature 1 Gradient': [], 'Loss': []}\n",
        "\n",
        "Sonrasında iterasyonlar devam ederken yani for döngüsünün içindeyken grad_tracking sözlük içerisine ilgili iterasyondaki iterasyon bilgisini (epoch +1), ilk değişkenin gradyan bilgisini (dw[0]) ve loss bilgisini eklemeniz yeterli (loss)\n",
        "\n",
        "***Yani döngü içindeyken basit bir sözlüğe eleman ekleme işimiz olacak.***\n",
        "\n",
        "- Predict fonksiyonuna ihtiyacımız yok amacımız gradyanları, iterasyonları ve loss'u gözlemlemek.\n",
        "\n",
        "- gradient_descent fonksiyonun çıktısı sadece grad_tracking'i return etmeli.\n",
        "\n",
        "- gradient_descent fonksiyonunu çağırırken argumanlar şunlar olabilir: gradient_descent(X_train_scaled, y_train, lr=0.1, epochs=100)\n",
        "\n",
        "- çıktı çirkin olacaktır, bu sebeple çıktıyı tutup sonrasında bir dataframe'e çevirmek iyi olacaktır.\n",
        "\n",
        "\n",
        "## Kod taslağı aşağıda bırakılmıştır, düzenleme yapılması gereken yerler işaretlenmiştir:\n"
      ],
      "metadata": {
        "id": "T1k6AKqR7yh8"
      }
    },
    {
      "cell_type": "code",
      "source": [
        "import numpy as np\n",
        "import pandas as pd\n",
        "import matplotlib.pyplot as plt\n",
        "import seaborn as sns\n",
        "from sklearn.datasets import load_breast_cancer\n",
        "from sklearn.model_selection import train_test_split\n",
        "from sklearn.preprocessing import StandardScaler\n",
        "from sklearn.metrics import accuracy_score\n",
        "\n",
        "data = load_breast_cancer()\n",
        "X = data.data\n",
        "y = data.target\n",
        "\n",
        "X_train, X_val, y_train, y_val = train_test_split(X, y, test_size=0.2, random_state=42)\n",
        "\n",
        "scaler = StandardScaler()\n",
        "X_train_scaled = scaler.fit_transform(X_train)\n",
        "X_val_scaled = scaler.transform(X_val)\n",
        "\n",
        "def sigmoid(z):\n",
        "    return 1 / (1 + np.exp(-z))\n",
        "\n",
        "def compute_loss(y, y_pred):\n",
        "    epsilon = 1e-5\n",
        "    return -np.mean(y * np.log(y_pred + epsilon) + (1 - y) * np.log(1 - y_pred + epsilon))\n",
        "\n",
        "def compute_gradients(X, y, y_pred):\n",
        "    return np.dot(X.T, (y_pred - y)) / len(y)\n",
        "\n",
        "def gradient_descent(X, y, lr=0.01, epochs=100):\n",
        "    weights = np.zeros(X.shape[1])\n",
        "    bias = 0\n",
        "\n",
        "    # grad_tracking burada tanımlanabilir.\n",
        "    grad_tracking = {'Iteration': [], 'Feature 1 Gradient': [], 'Loss': []}\n",
        "\n",
        "    for epoch in range(epochs):\n",
        "        z = np.dot(X, weights) + bias\n",
        "        y_pred = sigmoid(z)\n",
        "        loss = compute_loss(y, y_pred)\n",
        "        dw = compute_gradients(X, y, y_pred)\n",
        "        db = np.mean(y_pred - y)\n",
        "\n",
        "        # gradyanları ve loss'u burada yakalıyoruz.\n",
        "        grad_tracking[\"Iteration\"].append(epoch +1)\n",
        "        grad_tracking[\"Feature 1 Gradient\"].append(dw[0])\n",
        "        grad_tracking[\"Loss\"].append(loss)\n",
        "\n",
        "        weights -= lr * dw\n",
        "        bias -= lr * db\n",
        "\n",
        "    return grad_tracking"
      ],
      "metadata": {
        "id": "c3i4McFs8Ncb"
      },
      "execution_count": 10,
      "outputs": []
    },
    {
      "cell_type": "code",
      "source": [
        "grad_tracking = gradient_descent(X_train_scaled, y_train, lr=0.1, epochs=100)"
      ],
      "metadata": {
        "id": "JUaC0e4Ig3Qy"
      },
      "execution_count": 11,
      "outputs": []
    },
    {
      "cell_type": "code",
      "source": [
        "grad_tracking_df = pd.DataFrame(grad_tracking)\n",
        "print(grad_tracking_df)"
      ],
      "metadata": {
        "colab": {
          "base_uri": "https://localhost:8080/"
        },
        "id": "mzleo9qChGdR",
        "outputId": "e855abc2-b389-47be-d31c-0dce8a7e043d"
      },
      "execution_count": 12,
      "outputs": [
        {
          "output_type": "stream",
          "name": "stdout",
          "text": [
            "    Iteration  Feature 1 Gradient      Loss\n",
            "0           1            0.346963  0.693127\n",
            "1           2            0.250376  0.527516\n",
            "2           3            0.196769  0.441138\n",
            "3           4            0.163503  0.387700\n",
            "4           5            0.140597  0.350752\n",
            "..        ...                 ...       ...\n",
            "95         96            0.010033  0.108377\n",
            "96         97            0.009923  0.108025\n",
            "97         98            0.009816  0.107678\n",
            "98         99            0.009711  0.107337\n",
            "99        100            0.009608  0.107001\n",
            "\n",
            "[100 rows x 3 columns]\n"
          ]
        }
      ]
    },
    {
      "cell_type": "markdown",
      "source": [
        "# Task 2: gradient_descent Fonksiyonunun Çıktısını Kaydedip dataframe'e Çeviriniz.\n",
        "\n",
        "Gradient descent fonksiyonunu aşağıdaki 3 kombinasyonda çağırarak sonuçları dataframe'e çevirip yazdırınız.\n",
        "\n",
        "\n",
        "1. gradient_descent(X_train_scaled, y_train, lr=0.1, epochs=100)\n",
        "2. gradient_descent(X_train_scaled, y_train, lr=0.01, epochs=100)\n",
        "3. gradient_descent(X_train_scaled, y_train, lr=0.001, epochs=100)\n",
        "\n",
        "\n",
        "## Beklenen çıktılar:\n",
        "\n",
        "\n",
        "```\n",
        "    Iteration  Feature 1 Gradient      Loss\n",
        "0           1            0.346963  0.693127\n",
        "1           2            0.250376  0.527516\n",
        "2           3            0.196769  0.441138\n",
        "3           4            0.163503  0.387700\n",
        "4           5            0.140597  0.350752\n",
        "..        ...                 ...       ...\n",
        "95         96            0.010033  0.108377\n",
        "96         97            0.009923  0.108025\n",
        "97         98            0.009816  0.107678\n",
        "98         99            0.009711  0.107337\n",
        "99        100            0.009608  0.107001\n",
        "\n",
        "[100 rows x 3 columns]\n",
        "```\n",
        "\n",
        "\n",
        "\n",
        "\n",
        "```\n",
        "    Iteration  Feature 1 Gradient      Loss\n",
        "0           1            0.346963  0.693127\n",
        "1           2            0.336617  0.673916\n",
        "2           3            0.326640  0.655887\n",
        "3           4            0.317060  0.638961\n",
        "4           5            0.307888  0.623058\n",
        "..        ...                 ...       ...\n",
        "95         96            0.085450  0.259625\n",
        "96         97            0.084800  0.258520\n",
        "97         98            0.084160  0.257431\n",
        "98         99            0.083530  0.256357\n",
        "99        100            0.082909  0.255299\n",
        "\n",
        "[100 rows x 3 columns]\n",
        "```\n",
        "\n",
        "\n",
        "\n",
        "```\n",
        "    Iteration  Feature 1 Gradient      Loss\n",
        "0           1            0.346963  0.693127\n",
        "1           2            0.345928  0.691178\n",
        "2           3            0.344896  0.689242\n",
        "3           4            0.343867  0.687318\n",
        "4           5            0.342841  0.685405\n",
        "..        ...                 ...       ...\n",
        "95         96            0.265483  0.552141\n",
        "96         97            0.264805  0.551030\n",
        "97         98            0.264130  0.549925\n",
        "98         99            0.263458  0.548826\n",
        "99        100            0.262789  0.547733\n",
        "\n",
        "[100 rows x 3 columns]\n",
        "```\n",
        "\n"
      ],
      "metadata": {
        "id": "7fAqu9rU_J25"
      }
    },
    {
      "cell_type": "code",
      "source": [
        "grad_tracking = gradient_descent(X_train_scaled, y_train, lr=0.1, epochs=100)\n",
        "grad_tracking_df = pd.DataFrame(grad_tracking)\n",
        "print(grad_tracking_df)"
      ],
      "metadata": {
        "colab": {
          "base_uri": "https://localhost:8080/"
        },
        "id": "z59heId8hbY0",
        "outputId": "40fb5191-dc1d-409c-a102-2e3ed736a771"
      },
      "execution_count": 13,
      "outputs": [
        {
          "output_type": "stream",
          "name": "stdout",
          "text": [
            "    Iteration  Feature 1 Gradient      Loss\n",
            "0           1            0.346963  0.693127\n",
            "1           2            0.250376  0.527516\n",
            "2           3            0.196769  0.441138\n",
            "3           4            0.163503  0.387700\n",
            "4           5            0.140597  0.350752\n",
            "..        ...                 ...       ...\n",
            "95         96            0.010033  0.108377\n",
            "96         97            0.009923  0.108025\n",
            "97         98            0.009816  0.107678\n",
            "98         99            0.009711  0.107337\n",
            "99        100            0.009608  0.107001\n",
            "\n",
            "[100 rows x 3 columns]\n"
          ]
        }
      ]
    },
    {
      "cell_type": "code",
      "source": [
        "grad_tracking = gradient_descent(X_train_scaled, y_train, lr=0.01, epochs=100)\n",
        "grad_tracking_df = pd.DataFrame(grad_tracking)\n",
        "print(grad_tracking_df)"
      ],
      "metadata": {
        "colab": {
          "base_uri": "https://localhost:8080/"
        },
        "id": "hhA1Ei-rhjET",
        "outputId": "63ff0b88-b1aa-4db3-912d-4c3c5b8d85cb"
      },
      "execution_count": 14,
      "outputs": [
        {
          "output_type": "stream",
          "name": "stdout",
          "text": [
            "    Iteration  Feature 1 Gradient      Loss\n",
            "0           1            0.346963  0.693127\n",
            "1           2            0.336617  0.673916\n",
            "2           3            0.326640  0.655887\n",
            "3           4            0.317060  0.638961\n",
            "4           5            0.307888  0.623058\n",
            "..        ...                 ...       ...\n",
            "95         96            0.085450  0.259625\n",
            "96         97            0.084800  0.258520\n",
            "97         98            0.084160  0.257431\n",
            "98         99            0.083530  0.256357\n",
            "99        100            0.082909  0.255299\n",
            "\n",
            "[100 rows x 3 columns]\n"
          ]
        }
      ]
    },
    {
      "cell_type": "code",
      "source": [
        "grad_tracking = gradient_descent(X_train_scaled, y_train, lr=0.001, epochs=100)\n",
        "grad_tracking_df = pd.DataFrame(grad_tracking)\n",
        "print(grad_tracking_df)"
      ],
      "metadata": {
        "colab": {
          "base_uri": "https://localhost:8080/"
        },
        "id": "qXa_Jzk5h_Uv",
        "outputId": "5116f565-6dbe-42c6-cf3c-c3722177d54e"
      },
      "execution_count": 15,
      "outputs": [
        {
          "output_type": "stream",
          "name": "stdout",
          "text": [
            "    Iteration  Feature 1 Gradient      Loss\n",
            "0           1            0.346963  0.693127\n",
            "1           2            0.345928  0.691178\n",
            "2           3            0.344896  0.689242\n",
            "3           4            0.343867  0.687318\n",
            "4           5            0.342841  0.685405\n",
            "..        ...                 ...       ...\n",
            "95         96            0.265483  0.552141\n",
            "96         97            0.264805  0.551030\n",
            "97         98            0.264130  0.549925\n",
            "98         99            0.263458  0.548826\n",
            "99        100            0.262789  0.547733\n",
            "\n",
            "[100 rows x 3 columns]\n"
          ]
        }
      ]
    },
    {
      "cell_type": "markdown",
      "source": [
        "# Task 3: Learning Rate Değiştikçe Loss Değerleri Nasıl Değişmektedir? Sebebi Nedir?\n",
        "\n",
        "Bir önceki soruda farklı learning rate değerleri kullandık, bu farklı learning rate değerleri neticesinde ortaya çıkan loss değerleri nasıl değişmektedir? Sebebi nedir? Açıklayınız.\n",
        "\n",
        "\n",
        "\n"
      ],
      "metadata": {
        "id": "b2j41e6VCEXd"
      }
    },
    {
      "cell_type": "markdown",
      "source": [
        "Learning rate değeri küçüldükçe loss değeri de daha yavaş düşerek daha yüksek bir sayıda kalıyor. Learning rate'in büyük olması global minimum değerini kaçırmaya sebep olabilir. Temkinli yaklaşılmalı, lr değeri verilirken göz önünde bulundurulmalı. Lr update kuralında gradyanların parametrelerinin eski değerlerine ne kadar eklenip çıkarılacağını belirliyordu. Gradyanlarda yol çizmemize yardımcı olduğu için direkt etkiliyor."
      ],
      "metadata": {
        "id": "51GPN3_BiHPU"
      }
    },
    {
      "cell_type": "markdown",
      "source": [
        "# Task 4: İlk Update Kuralı Sonucu Yeni Ağırlık Değeri Nedir?\n",
        "\n",
        "```\n",
        "    Iteration  Feature 1 Gradient      Loss\n",
        "0           1            0.346963  0.693127\n",
        "1           2            0.336617  0.673916\n",
        "2           3            0.326640  0.655887\n",
        "3           4            0.317060  0.638961\n",
        "4           5            0.307888  0.623058\n",
        "..        ...                 ...       ...\n",
        "95         96            0.085450  0.259625\n",
        "96         97            0.084800  0.258520\n",
        "97         98            0.084160  0.257431\n",
        "98         99            0.083530  0.256357\n",
        "99        100            0.082909  0.255299\n",
        "\n",
        "[100 rows x 3 columns]\n",
        "```\n",
        "\n",
        "\n",
        "## Elimizde şunlar var:\n",
        "\n",
        "- learning rate: 0.001\n",
        "- birinci iterasyondaki gradyan değeri: 0.346963\n",
        "- Ağırlığın başlangıç değeri: 0\n",
        "\n",
        "\n",
        "Bu durumda ilk update kuralı sonucu yeni ağırlık değeri ne olur?"
      ],
      "metadata": {
        "id": "vgnQta3yGju4"
      }
    },
    {
      "cell_type": "code",
      "source": [
        "# 0 - 0.001 * 0.346963"
      ],
      "metadata": {
        "id": "K5Ic_25-jiMk"
      },
      "execution_count": null,
      "outputs": []
    }
  ]
}